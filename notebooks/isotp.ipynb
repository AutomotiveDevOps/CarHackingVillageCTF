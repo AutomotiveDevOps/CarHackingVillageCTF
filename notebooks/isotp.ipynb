{
 "cells": [
  {
   "cell_type": "markdown",
   "metadata": {},
   "source": [
    "https://pypi.org/project/can-isotp/"
   ]
  },
  {
   "cell_type": "code",
   "execution_count": 8,
   "metadata": {},
   "outputs": [],
   "source": [
    "import isotp\n",
    "import logging\n",
    "import time\n",
    "\n",
    "def my_error_handler(error):\n",
    "    logging.warning('IsoTp error happened : %s - %s' % (error.__class__.__name__, str(error)))"
   ]
  },
  {
   "cell_type": "code",
   "execution_count": 9,
   "metadata": {},
   "outputs": [],
   "source": [
    "?can.Bus"
   ]
  },
  {
   "cell_type": "code",
   "execution_count": 17,
   "metadata": {},
   "outputs": [
    {
     "name": "stdout",
     "output_type": "stream",
     "text": [
      "b'Hello, this is a long payload sent in small chunks of 8 bytes.'\n"
     ]
    }
   ],
   "source": [
    "SOL_CAN_ISOTP = 106 # These constants exist in the module header, not in Python.\n",
    "CAN_ISOTP_RECV_FC = 2\n",
    "# Many more exists.\n",
    "\n",
    "import socket\n",
    "import struct\n",
    "\n",
    "s = socket.socket(socket.AF_CAN, socket.SOCK_DGRAM, socket.CAN_ISOTP)\n",
    "s2 = socket.socket(socket.AF_CAN, socket.SOCK_DGRAM, socket.CAN_ISOTP)\n",
    "# Configuring the sockets with ugly struct.pack() that requires knowledge of the LKM structure\n",
    "s.setsockopt(SOL_CAN_ISOTP, CAN_ISOTP_RECV_FC, struct.pack(\"=BBB\", 0x10, 3,0)) #bs, stmin, wftmax\n",
    "#s.setsockopt(SOL_CAN_ISOTP, CAN_ISOTP_OPTS, struct.pack(...))\n",
    "#s.setsockopt(SOL_CAN_ISOTP, CAN_ISOTP_LL_OPTS, struct.pack(...))\n",
    "\n",
    "s.bind((\"vcan0\", 0x123, 0x456)) #rxid, txid with confusing order.\n",
    "s2.bind((\"vcan0\", 0x456, 0x123)) #rxid, txid\n",
    "s2.send(b\"Hello, this is a long payload sent in small chunks of 8 bytes.\")\n",
    "print(s.recv(4095))"
   ]
  },
  {
   "cell_type": "code",
   "execution_count": 18,
   "metadata": {},
   "outputs": [
    {
     "name": "stdout",
     "output_type": "stream",
     "text": [
      "b'Hello, this is a long payload sent in small chunks of 8 bytes.'\n"
     ]
    }
   ],
   "source": [
    "import isotp\n",
    "\n",
    "s = isotp.socket()\n",
    "s2 = isotp.socket()\n",
    "# Configuring the sockets.\n",
    "s.set_fc_opts(stmin=5, bs=10)\n",
    "#s.set_general_opts(...)\n",
    "#s.set_ll_opts(...)\n",
    "\n",
    "s.bind(\"vcan0\", isotp.Address(rxid=0x123, txid=0x456))\n",
    "s2.bind(\"vcan0\", isotp.Address(rxid=0x456, txid=0x123))\n",
    "s2.send(b\"Hello, this is a long payload sent in small chunks of 8 bytes.\")\n",
    "print(s.recv())"
   ]
  },
  {
   "cell_type": "code",
   "execution_count": 19,
   "metadata": {},
   "outputs": [],
   "source": [
    "s2.close()"
   ]
  },
  {
   "cell_type": "code",
   "execution_count": 21,
   "metadata": {},
   "outputs": [],
   "source": [
    "s.close()"
   ]
  },
  {
   "cell_type": "code",
   "execution_count": null,
   "metadata": {},
   "outputs": [],
   "source": []
  }
 ],
 "metadata": {
  "kernelspec": {
   "display_name": "Python 3",
   "language": "python",
   "name": "python3"
  },
  "language_info": {
   "codemirror_mode": {
    "name": "ipython",
    "version": 3
   },
   "file_extension": ".py",
   "mimetype": "text/x-python",
   "name": "python",
   "nbconvert_exporter": "python",
   "pygments_lexer": "ipython3",
   "version": "3.8.2"
  }
 },
 "nbformat": 4,
 "nbformat_minor": 4
}

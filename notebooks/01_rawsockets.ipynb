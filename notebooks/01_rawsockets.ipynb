{
 "cells": [
  {
   "cell_type": "code",
   "execution_count": 1,
   "metadata": {},
   "outputs": [],
   "source": [
    "import socket\n",
    "\n",
    "sock = socket.socket(socket.PF_CAN, socket.SOCK_RAW, socket.CAN_RAW)\n",
    "sock.bind((\"vcan0\",))\n"
   ]
  },
  {
   "cell_type": "code",
   "execution_count": 2,
   "metadata": {},
   "outputs": [],
   "source": [
    "import socket, sys\n",
    "\n",
    "sock = socket.socket(socket.PF_CAN, socket.SOCK_RAW, socket.CAN_RAW)\n",
    "interface = \"vcan0\"\n",
    "try:\n",
    "    sock.bind((interface,))\n",
    "except OSError:\n",
    "    sys.stderr.write(\"Could not bind to interface '%s'\\n\" % interface)\n",
    "    # do something about the error..."
   ]
  },
  {
   "cell_type": "code",
   "execution_count": 6,
   "metadata": {},
   "outputs": [
    {
     "data": {
      "text/plain": [
       "16"
      ]
     },
     "execution_count": 6,
     "metadata": {},
     "output_type": "execute_result"
    }
   ],
   "source": [
    "import struct\n",
    "\n",
    "fmt = \"<IB3x8s\"\n",
    "can_pkt = struct.pack(fmt, 0x741, len(b\"hello\"), b\"hello\")\n",
    "# Check candump vcan0\n",
    "sock.send(can_pkt)"
   ]
  },
  {
   "cell_type": "code",
   "execution_count": 7,
   "metadata": {},
   "outputs": [
    {
     "data": {
      "text/plain": [
       "16"
      ]
     },
     "execution_count": 7,
     "metadata": {},
     "output_type": "execute_result"
    }
   ],
   "source": [
    "can_id = 0x1af0 | socket.CAN_EFF_FLAG\n",
    "can_pkt = struct.pack(fmt, can_id, len(b\"hello\"), b\"hello\")\n",
    "sock.send(can_pkt)"
   ]
  },
  {
   "cell_type": "markdown",
   "metadata": {},
   "source": [
    "```cansend vcan0 01a#11223344AABBCCDD```"
   ]
  },
  {
   "cell_type": "code",
   "execution_count": 9,
   "metadata": {},
   "outputs": [],
   "source": [
    "can_pkt = sock.recv(16)"
   ]
  },
  {
   "cell_type": "code",
   "execution_count": 10,
   "metadata": {},
   "outputs": [
    {
     "data": {
      "text/plain": [
       "b'\\x1a\\x00\\x00\\x00\\x08\\x00\\x00\\x00\\x11\"3D\\xaa\\xbb\\xcc\\xdd'"
      ]
     },
     "execution_count": 10,
     "metadata": {},
     "output_type": "execute_result"
    }
   ],
   "source": [
    "can_pkt"
   ]
  },
  {
   "cell_type": "code",
   "execution_count": 11,
   "metadata": {},
   "outputs": [],
   "source": [
    "can_id, length, data = struct.unpack(fmt, can_pkt)\n",
    "can_id &= socket.CAN_EFF_MASK\n",
    "data = data[:length]"
   ]
  },
  {
   "cell_type": "code",
   "execution_count": null,
   "metadata": {},
   "outputs": [],
   "source": []
  }
 ],
 "metadata": {
  "kernelspec": {
   "display_name": "Python 3",
   "language": "python",
   "name": "python3"
  },
  "language_info": {
   "codemirror_mode": {
    "name": "ipython",
    "version": 3
   },
   "file_extension": ".py",
   "mimetype": "text/x-python",
   "name": "python",
   "nbconvert_exporter": "python",
   "pygments_lexer": "ipython3",
   "version": "3.8.2"
  }
 },
 "nbformat": 4,
 "nbformat_minor": 4
}

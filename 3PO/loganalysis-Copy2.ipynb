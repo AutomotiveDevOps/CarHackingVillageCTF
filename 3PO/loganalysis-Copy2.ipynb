{
 "cells": [
  {
   "cell_type": "markdown",
   "metadata": {},
   "source": [
    "3PO Log Analysis.\n",
    "\n",
    "Files generated from candump from a short time on the bench."
   ]
  },
  {
   "cell_type": "code",
   "execution_count": 5,
   "metadata": {},
   "outputs": [
    {
     "data": {
      "text/plain": [
       "['candump-2020-08-06_130024.log',\n",
       " 'candump-2020-08-06_124354.log',\n",
       " 'candump-2020-08-06_124435.log',\n",
       " 'hs_long.log',\n",
       " 'i_can.log',\n",
       " 'ican_dump.log',\n",
       " 'hs_odb_probe.log',\n",
       " 'lock_unlock.log',\n",
       " 'candump-2020-08-06_132427.log']"
      ]
     },
     "execution_count": 5,
     "metadata": {},
     "output_type": "execute_result"
    }
   ],
   "source": [
    "import glob\n",
    "logs = glob.glob(\"*.log\")\n",
    "logs"
   ]
  },
  {
   "cell_type": "code",
   "execution_count": 6,
   "metadata": {},
   "outputs": [],
   "source": [
    "class CanMsg(object):\n",
    "    def __init__(self, canid, data):\n",
    "        self.canid=canid\n",
    "        self.data=data\n",
    "        \n",
    "    def __repr__(self):\n",
    "        return f\"CAN<{self.canid}, {self.data}>\""
   ]
  },
  {
   "cell_type": "code",
   "execution_count": 7,
   "metadata": {},
   "outputs": [],
   "source": [
    "def parse_log(log_file):\n",
    "    messages = list()\n",
    "    with open(log_file, \"r\") as f:\n",
    "        for can_msg in f.readlines():\n",
    "            can_id, can_data = can_msg.strip().split(\" \")[-1].split(\"#\")\n",
    "            cm = CanMsg(can_id, can_data)\n",
    "            messages.append(cm)\n",
    "    #\n",
    "    unique_datas = dict()\n",
    "    #\n",
    "    for canid in set([msg.canid for msg in messages]):\n",
    "        id_datas = set([msg.data for msg in messages if msg.canid==canid])\n",
    "        unique_datas[canid] = id_datas\n",
    "    #\n",
    "    return unique_datas"
   ]
  },
  {
   "cell_type": "code",
   "execution_count": 8,
   "metadata": {},
   "outputs": [
    {
     "name": "stdout",
     "output_type": "stream",
     "text": [
      "candump-2020-08-06_130024.log: dict_keys(['40A', '220', '060', '100', '1C0', '250', '240', '1B0', '080', '340', '360', '265', '230', '241', '508', '040', '415', '361', '400', '504', '501', '030', '290', '0A0', '2B0', '090', '020', '581', '300', '150', '108', '070', '370', '160', '541', '310', '255', '320', '110', '03A', '1A8', '2F5', '511', '2E0', '3A0', '270', '010', '083', '2A0', '405', '2C0', '1A0', '2A7', '1A4', '1E0'])\n",
      "\n",
      "candump-2020-08-06_124354.log: dict_keys(['220', '40A', '060', '100', '1C0', '250', '240', '080', '1B0', '340', '360', '265', '230', '241', '508', '040', '415', '361', '400', '504', '501', '030', '290', '0A0', '2B0', '090', '020', '581', '300', '150', '108', '070', '370', '541', '160', '310', '255', '320', '110', '7DF', '03A', '1A8', '2F5', '511', '2E0', '3A0', '270', '083', '2A0', '405', '2C0', '1A0', '2A7', '1A4', '1E0'])\n",
      "\n",
      "candump-2020-08-06_124435.log: dict_keys(['40A', '220', '060', '100', '1C0', '250', '240', '1B0', '080', '340', '360', '265', '230', '241', '508', '040', '415', '361', '400', '504', '501', '030', '290', '0A0', '2B0', '090', '020', '581', '300', '150', '108', '070', '370', '160', '541', '310', '255', '320', '110', '03A', '1A8', '2F5', '511', '2E0', '3A0', '270', '083', '2A0', '405', '2C0', '1A0', '2A7', '1A4', '1E0'])\n",
      "\n",
      "hs_long.log: dict_keys(['40A', '455', '1C0', '3E2', '3EA', '360', '380', '218', '400', '030', '290', '2D0', '581', '213', '1D0', '150', '252', '160', '2D4', '0C8', '310', '435', '7DF', '210', '3DA', '190', '180', '405', '260', '3B4', '1E0'])\n",
      "\n",
      "i_can.log: dict_keys(['2D2', '22C', '40A', '222', '3F1', '305', '289', '2E3', '2E7', '2EC', '201', '2EA', '2FD', '080', '2F2', '5E2', '2E6', '400', '4D7', '2D1', '295', '2DC', '1E9', '433', '030', '290', '4D9', '2D5', '2F9', '2D0', '2E8', '3B3', '307', '192', '3F0', '2D6', '048', '306', '2E5', '2DA', '309', '591', '229', '225', '4D0', '1E6', '4DC', '35B', '223', '42C', '2F6', '7DF', '3E8', '2DB', '4DB', '2D7', '2F5', '2D8', '511', '2E0', '109', '2F7', '2F8', '301', '2A0', '2FC', '2A1', '2EE', '405', '2DE', '288', '2E9', '303', '2F3', '2D9'])\n",
      "\n",
      "ican_dump.log: dict_keys(['22C', '2D2', '222', '3F1', '305', '289', '2E3', '2E7', '2FD', '201', '2EA', '2EC', '2F2', '5E2', '2E6', '4D7', '2D1', '295', '2DC', '433', '290', '4D9', '2D5', '2F9', '2D0', '307', '3B3', '2E8', '192', '3F0', '2D6', '048', '306', '2E5', '2DA', '309', '591', '229', '225', '4D0', '1E6', '4DC', '35B', '42C', '223', '2F6', '3E8', '2DB', '4DB', '2D7', '2F5', '2D8', '511', '2E0', '109', '2F7', '2F8', '301', '2A0', '2FC', '2A1', '2EE', '2DE', '288', '2E9', '303', '2F3', '2D9'])\n",
      "\n",
      "hs_odb_probe.log: dict_keys(['40A', '455', '1C0', '3E2', '3EA', '360', '218', '400', '380', '030', '290', '2D0', '581', '213', '1D0', '150', '252', '160', '2D4', '0C8', '310', '435', '7DF', '210', '3DA', '190', '180', '405', '260', '3B4', '1E0'])\n",
      "\n",
      "lock_unlock.log: dict_keys(['220', '40A', '060', '100', '1C0', '250', '240', '1B0', '080', '340', '360', '265', '230', '241', '508', '040', '415', '361', '400', '504', '501', '030', '290', '0A0', '2B0', '090', '020', '581', '300', '150', '108', '070', '370', '541', '160', '310', '320', '255', '110', '03A', '1A8', '2F5', '511', '2E0', '3A0', '270', '010', '083', '2A0', '405', '2C0', '1A0', '2A7', '1A4', '1E0'])\n",
      "\n",
      "candump-2020-08-06_132427.log: dict_keys(['220', '40A', '060', '100', '1C0', '250', '240', '080', '1B0', '340', '360', '265', '230', '241', '508', '040', '415', '361', '400', '504', '501', '030', '290', '0A0', '2B0', '090', '020', '581', '300', '150', '108', '070', '370', '160', '541', '310', '255', '320', '110', '03A', '1A8', '2F5', '511', '2E0', '3A0', '270', '083', '2A0', '405', '2C0', '1A0', '2A7', '1A4', '1E0'])\n",
      "\n"
     ]
    }
   ],
   "source": [
    "for log in logs:\n",
    "    data = parse_log(log)\n",
    "    print(f\"{log}: {data.keys()}\")\n",
    "    print()"
   ]
  },
  {
   "cell_type": "code",
   "execution_count": 9,
   "metadata": {},
   "outputs": [
    {
     "name": "stdout",
     "output_type": "stream",
     "text": [
      "candump-2020-08-06_130024.log:\n",
      "    40A: 44\n",
      "    100: 10\n",
      "    250: 13\n",
      "    080: 3\n",
      "    230: 13\n",
      "    508: 3\n",
      "    400: 36\n",
      "    501: 3\n",
      "    255: 4\n",
      "    03A: 13\n",
      "    405: 28\n",
      "candump-2020-08-06_124354.log:\n",
      "    40A: 41\n",
      "    250: 8\n",
      "    230: 8\n",
      "    400: 29\n",
      "    320: 3\n",
      "    7DF: 255\n",
      "    405: 20\n",
      "candump-2020-08-06_124435.log:\n",
      "    40A: 25\n",
      "    250: 3\n",
      "    230: 4\n",
      "    400: 11\n",
      "    255: 4\n",
      "    405: 6\n",
      "hs_long.log:\n",
      "    40A: 105\n",
      "    400: 36\n",
      "    030: 3\n",
      "    2D0: 16\n",
      "    252: 4\n",
      "    160: 16\n",
      "    310: 6\n",
      "    7DF: 255\n",
      "    210: 16\n",
      "    405: 88\n",
      "    1E0: 16\n",
      "i_can.log:\n",
      "    40A: 55\n",
      "    289: 67\n",
      "    080: 23\n",
      "    400: 36\n",
      "    7DF: 255\n",
      "    405: 36\n",
      "    288: 112\n",
      "ican_dump.log:\n",
      "hs_odb_probe.log:\n",
      "    40A: 35\n",
      "    400: 15\n",
      "    030: 3\n",
      "    2D0: 16\n",
      "    160: 16\n",
      "    7DF: 255\n",
      "    210: 16\n",
      "    405: 12\n",
      "    1E0: 16\n",
      "lock_unlock.log:\n",
      "    40A: 55\n",
      "    100: 12\n",
      "    250: 24\n",
      "    080: 5\n",
      "    230: 24\n",
      "    508: 8\n",
      "    400: 36\n",
      "    504: 5\n",
      "    501: 5\n",
      "    0A0: 4\n",
      "    090: 4\n",
      "    160: 123\n",
      "    320: 3\n",
      "    255: 7\n",
      "    03A: 14\n",
      "    1A8: 5\n",
      "    511: 6\n",
      "    405: 40\n",
      "    2C0: 3\n",
      "candump-2020-08-06_132427.log:\n",
      "    40A: 131\n",
      "    250: 101\n",
      "    230: 101\n",
      "    400: 36\n",
      "    255: 4\n",
      "    320: 5\n",
      "    405: 114\n"
     ]
    }
   ],
   "source": [
    "thresh=2\n",
    "for log in logs:\n",
    "    print(f\"{log}:\")\n",
    "    data = parse_log(log)\n",
    "    for key, items in data.items():\n",
    "        l = len(items)\n",
    "        if l>thresh:\n",
    "            print(f\"    {key}: {len(items)}\")"
   ]
  },
  {
   "cell_type": "code",
   "execution_count": 13,
   "metadata": {},
   "outputs": [],
   "source": [
    "class CanMsg(object):\n",
    "    def __init__(self, canid, data):\n",
    "        self.canid=canid\n",
    "        self.data=data\n",
    "        \n",
    "    def __repr__(self):\n",
    "        return f\"CAN<{self.canid}, {self.data}>\""
   ]
  },
  {
   "cell_type": "code",
   "execution_count": 18,
   "metadata": {},
   "outputs": [
    {
     "data": {
      "text/plain": [
       "CAN<40A, C0003E01BCB1DB33>"
      ]
     },
     "execution_count": 18,
     "metadata": {},
     "output_type": "execute_result"
    }
   ],
   "source": [
    "cm = CanMsg(*(\"40A#C0003E01BCB1DB33\".split(\"#\")))\n",
    "cm"
   ]
  },
  {
   "cell_type": "code",
   "execution_count": 24,
   "metadata": {},
   "outputs": [
    {
     "data": {
      "text/plain": [
       "'00'"
      ]
     },
     "execution_count": 24,
     "metadata": {},
     "output_type": "execute_result"
    }
   ],
   "source": [
    "cm.data[2:4]"
   ]
  },
  {
   "cell_type": "code",
   "execution_count": 20,
   "metadata": {},
   "outputs": [
    {
     "ename": "AttributeError",
     "evalue": "'CanMsg' object has no attribute 'bytes'",
     "output_type": "error",
     "traceback": [
      "\u001b[0;31m---------------------------------------------------------------------------\u001b[0m",
      "\u001b[0;31mAttributeError\u001b[0m                            Traceback (most recent call last)",
      "\u001b[0;32m<ipython-input-20-ff28b6a3f9e4>\u001b[0m in \u001b[0;36m<module>\u001b[0;34m\u001b[0m\n\u001b[0;32m----> 1\u001b[0;31m \u001b[0mcm\u001b[0m\u001b[0;34m.\u001b[0m\u001b[0mbytes\u001b[0m\u001b[0;34m\u001b[0m\u001b[0;34m\u001b[0m\u001b[0m\n\u001b[0m",
      "\u001b[0;31mAttributeError\u001b[0m: 'CanMsg' object has no attribute 'bytes'"
     ]
    }
   ],
   "source": [
    "cm.bytes"
   ]
  },
  {
   "cell_type": "code",
   "execution_count": 27,
   "metadata": {},
   "outputs": [
    {
     "data": {
      "text/plain": [
       "{'C0003E01BD1CA632',\n",
       " 'C0003E01BD1CB132',\n",
       " 'C0003E01BD1CBC32',\n",
       " 'C0003E01BD1CC732',\n",
       " 'C0003E01BD1CCF32',\n",
       " 'C0003E01BD1CDA32',\n",
       " 'C0003E01BD1CE532',\n",
       " 'C0003E01BD1CF032',\n",
       " 'C0003E01BD1CF732',\n",
       " 'C0003E01BD1D0232',\n",
       " 'C0003E01BD1D0D32',\n",
       " 'C0003E01BD1D1832',\n",
       " 'C0003E01BD1D2032',\n",
       " 'C0003E01BD1D2B32',\n",
       " 'C0003E01BD1D3632',\n",
       " 'C0003E01BD1D4132',\n",
       " 'C0003E01BD1D4932',\n",
       " 'C0003E01BD1D5432',\n",
       " 'C0003E01BD1D5F32',\n",
       " 'C0003E01BD1D6A32',\n",
       " 'C0003E01BD1D7132',\n",
       " 'C0003E01BD1D7C32',\n",
       " 'C0003E01BD1D8732',\n",
       " 'C0003E01BD1D9232',\n",
       " 'C0003E01BD1D9A32',\n",
       " 'C0003E01BD1DA532',\n",
       " 'C0003E01BD1DB032',\n",
       " 'C0003E01BD1DBB32',\n",
       " 'C0003E01BD1DC332',\n",
       " 'C0003E01BD1DCE32',\n",
       " 'C0003E01BD1DD932',\n",
       " 'C0003E01BD1DE432',\n",
       " 'C0003E01BD1DEC32',\n",
       " 'C0003E01BD1DF732',\n",
       " 'C0003E01BD1E0232',\n",
       " 'C0003E01BD1E0D32',\n",
       " 'C0003E01BD1E1432',\n",
       " 'C0003E01BD1E1F32',\n",
       " 'C0003E01BD1E2A32',\n",
       " 'C0003E01BD1E3532',\n",
       " 'C0003E01BD1E3D32',\n",
       " 'C0003E01BD1E4832',\n",
       " 'C0003E01BD1E5332',\n",
       " 'C0003E01BD1E5E32',\n",
       " 'C0003E01BD1E6632',\n",
       " 'C0003E01BD1E7132',\n",
       " 'C0003E01BD1E7C32',\n",
       " 'C0003E01BD1E8732',\n",
       " 'C0003E01BD1E8E32',\n",
       " 'C0003E01BD1E9932',\n",
       " 'C0003E01BD1EA432',\n",
       " 'C0003E01BD1EAF32',\n",
       " 'C0003E01BD1EB732',\n",
       " 'C0003E01BD1EC232',\n",
       " 'C0003E01BD1ECD32',\n",
       " 'C0003E01BD1ED832',\n",
       " 'C0003E01BD1EE032',\n",
       " 'C0003E01BD1EEB32',\n",
       " 'C0003E01BD1EF632',\n",
       " 'C0003E01BD1F0132',\n",
       " 'C0003E01BD1F0832',\n",
       " 'C0003E01BD1F1332',\n",
       " 'C0003E01BD1F1E32',\n",
       " 'C0003E01BD1F2932',\n",
       " 'C0003E01BD1F3132',\n",
       " 'C0003E01BD1F3C32',\n",
       " 'C0003E01BD1F4732',\n",
       " 'C0003E01BD1F5232',\n",
       " 'C0003E01BD1F5A32',\n",
       " 'C0003E01BD1F6532',\n",
       " 'C0003E01BD1F7032',\n",
       " 'C0003E01BD1F7B32',\n",
       " 'C0003E01BD1F8332',\n",
       " 'C0003E01BD1F8E32',\n",
       " 'C0003E01BD1F9932',\n",
       " 'C0003E01BD1FA432',\n",
       " 'C0003E01BD1FAB32',\n",
       " 'C0003E01BD1FB632',\n",
       " 'C0003E01BD1FC132',\n",
       " 'C0003E01BD1FCC32',\n",
       " 'C0003E01BD1FD432',\n",
       " 'C0003E01BD1FDF32',\n",
       " 'C0003E01BD1FEA32',\n",
       " 'C0003E01BD1FF532',\n",
       " 'C0003E01BD1FFD32',\n",
       " 'C0003E01BD200832',\n",
       " 'C0003E01BD201332',\n",
       " 'C0003E01BD201E32',\n",
       " 'C0003E01BD202532',\n",
       " 'C0003E01BD203032',\n",
       " 'C0003E01BD203B32',\n",
       " 'C0003E01BD204632',\n",
       " 'C0003E01BD204E32',\n",
       " 'C0003E01BD205932',\n",
       " 'C0003E01BD206432',\n",
       " 'C0003E01BD206F32',\n",
       " 'C0003E01BD207732',\n",
       " 'C0003E01BD208232',\n",
       " 'C001000F017CEA00',\n",
       " 'C100314641485033',\n",
       " 'C1014E3237434C32',\n",
       " 'C102353633393500',\n",
       " 'C103488034898991',\n",
       " 'C104FFFF07AD0000',\n",
       " 'C105089C09000A8D',\n",
       " 'FF00111111111110',\n",
       " 'FF0131044C840040',\n",
       " 'FF02212422108840',\n",
       " 'FF03180110312088',\n",
       " 'FF0422122400C454',\n",
       " 'FF05110220488082',\n",
       " 'FF06311111101411',\n",
       " 'FF07110911089110',\n",
       " 'FF08084446442244',\n",
       " 'FF09111118112465',\n",
       " 'FF0A111211331108',\n",
       " 'FF0B11044C222221',\n",
       " 'FF0C071114C14444',\n",
       " 'FF0D217011210013',\n",
       " 'FF0E208888886009',\n",
       " 'FF0F11112111650A',\n",
       " 'FF10011012110211',\n",
       " 'FF11211310100000',\n",
       " 'FF12261110011001',\n",
       " 'FF13101111212121',\n",
       " 'FF14180841080803',\n",
       " 'FF15000000008000',\n",
       " 'FF16210021012000',\n",
       " 'FF17000000000000',\n",
       " 'FF20000000000000',\n",
       " 'FF21000000000000'}"
      ]
     },
     "execution_count": 27,
     "metadata": {},
     "output_type": "execute_result"
    }
   ],
   "source": [
    "data[\"40A\"]"
   ]
  },
  {
   "cell_type": "code",
   "execution_count": 28,
   "metadata": {},
   "outputs": [
    {
     "data": {
      "text/plain": [
       "{'C0', 'C1', 'FF'}"
      ]
     },
     "execution_count": 28,
     "metadata": {},
     "output_type": "execute_result"
    }
   ],
   "source": [
    "set([msg[0:2] for msg in data[\"40A\"]])"
   ]
  },
  {
   "cell_type": "code",
   "execution_count": 29,
   "metadata": {},
   "outputs": [
    {
     "data": {
      "text/plain": [
       "{'00',\n",
       " '01',\n",
       " '02',\n",
       " '03',\n",
       " '04',\n",
       " '05',\n",
       " '06',\n",
       " '07',\n",
       " '08',\n",
       " '09',\n",
       " '0A',\n",
       " '0B',\n",
       " '0C',\n",
       " '0D',\n",
       " '0E',\n",
       " '0F',\n",
       " '10',\n",
       " '11',\n",
       " '12',\n",
       " '13',\n",
       " '14',\n",
       " '15',\n",
       " '16',\n",
       " '17',\n",
       " '20',\n",
       " '21'}"
      ]
     },
     "execution_count": 29,
     "metadata": {},
     "output_type": "execute_result"
    }
   ],
   "source": [
    "set([msg[2:4] for msg in data[\"40A\"]])"
   ]
  },
  {
   "cell_type": "code",
   "execution_count": null,
   "metadata": {},
   "outputs": [],
   "source": []
  }
 ],
 "metadata": {
  "kernelspec": {
   "display_name": "Python 3",
   "language": "python",
   "name": "python3"
  },
  "language_info": {
   "codemirror_mode": {
    "name": "ipython",
    "version": 3
   },
   "file_extension": ".py",
   "mimetype": "text/x-python",
   "name": "python",
   "nbconvert_exporter": "python",
   "pygments_lexer": "ipython3",
   "version": "3.8.2"
  }
 },
 "nbformat": 4,
 "nbformat_minor": 4
}

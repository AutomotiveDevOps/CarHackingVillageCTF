{
 "cells": [
  {
   "cell_type": "code",
   "execution_count": 1,
   "metadata": {},
   "outputs": [],
   "source": [
    "import json"
   ]
  },
  {
   "cell_type": "code",
   "execution_count": 8,
   "metadata": {},
   "outputs": [],
   "source": [
    "with open(\"../can_db.json\", \"rb\") as f:\n",
    "    ex = json.loads(f.read())"
   ]
  },
  {
   "cell_type": "code",
   "execution_count": 10,
   "metadata": {},
   "outputs": [
    {
     "data": {
      "text/plain": [
       "dict_keys(['messages'])"
      ]
     },
     "execution_count": 10,
     "metadata": {},
     "output_type": "execute_result"
    }
   ],
   "source": [
    "ex.keys()"
   ]
  },
  {
   "cell_type": "code",
   "execution_count": 12,
   "metadata": {},
   "outputs": [
    {
     "data": {
      "text/plain": [
       "{'id': 768,\n",
       " 'is_extended_frame': False,\n",
       " 'name': 'LightBus',\n",
       " 'signals': [{'bit_length': 8,\n",
       "   'factor': '1',\n",
       "   'is_big_endian': True,\n",
       "   'is_float': False,\n",
       "   'is_signed': False,\n",
       "   'name': 'CTFLights',\n",
       "   'offset': '0',\n",
       "   'start_bit': 16}]}"
      ]
     },
     "execution_count": 12,
     "metadata": {},
     "output_type": "execute_result"
    }
   ],
   "source": [
    "ex[\"messages\"][0]"
   ]
  },
  {
   "cell_type": "code",
   "execution_count": 19,
   "metadata": {},
   "outputs": [],
   "source": [
    "def gen_sig(start_bit, bit_length):\n",
    "    return {'bit_length': bit_length,\n",
    "     'factor': '1',\n",
    "     'is_big_endian': True,\n",
    "     'is_float': False,\n",
    "     'is_signed': False,\n",
    "     'name': 'OneUp',\n",
    "     'offset': '0',\n",
    "     'start_bit': start_bit\n",
    "    }"
   ]
  },
  {
   "cell_type": "code",
   "execution_count": 20,
   "metadata": {},
   "outputs": [
    {
     "data": {
      "text/plain": [
       "{'bit_length': 0,\n",
       " 'factor': '1',\n",
       " 'is_big_endian': True,\n",
       " 'is_float': False,\n",
       " 'is_signed': False,\n",
       " 'name': 'OneUp',\n",
       " 'offset': '0',\n",
       " 'start_bit': 8}"
      ]
     },
     "execution_count": 20,
     "metadata": {},
     "output_type": "execute_result"
    }
   ],
   "source": [
    "gen_sig(8, 0)"
   ]
  },
  {
   "cell_type": "code",
   "execution_count": 15,
   "metadata": {},
   "outputs": [
    {
     "data": {
      "text/plain": [
       "{'bit_length': 8,\n",
       " 'factor': '1',\n",
       " 'is_big_endian': True,\n",
       " 'is_float': False,\n",
       " 'is_signed': False,\n",
       " 'name': 'OneUp',\n",
       " 'offset': '0',\n",
       " 'start_bit': 0}"
      ]
     },
     "execution_count": 15,
     "metadata": {},
     "output_type": "execute_result"
    }
   ],
   "source": [
    "ex[\"messages\"][1][\"signals\"][0]"
   ]
  },
  {
   "cell_type": "code",
   "execution_count": 21,
   "metadata": {},
   "outputs": [
    {
     "data": {
      "text/plain": [
       "['candump-2020-08-06_130024.log',\n",
       " 'candump-2020-08-06_124354.log',\n",
       " 'candump-2020-08-06_124435.log',\n",
       " 'hs_long.log',\n",
       " 'i_can.log',\n",
       " 'ican_dump.log',\n",
       " 'hs_odb_probe.log',\n",
       " 'lock_unlock.log',\n",
       " 'candump-2020-08-06_132427.log']"
      ]
     },
     "execution_count": 21,
     "metadata": {},
     "output_type": "execute_result"
    }
   ],
   "source": [
    "import glob\n",
    "logs = glob.glob(\"*.log\")\n",
    "logs"
   ]
  },
  {
   "cell_type": "code",
   "execution_count": 22,
   "metadata": {},
   "outputs": [],
   "source": [
    "class CanMsg(object):\n",
    "    def __init__(self, canid, data):\n",
    "        self.canid=canid\n",
    "        self.data=data\n",
    "        \n",
    "    def __repr__(self):\n",
    "        return f\"CAN<{self.canid}, {self.data}>\"\n",
    "def parse_log(log_file):\n",
    "    messages = list()\n",
    "    with open(log_file, \"r\") as f:\n",
    "        for can_msg in f.readlines():\n",
    "            can_id, can_data = can_msg.strip().split(\" \")[-1].split(\"#\")\n",
    "            cm = CanMsg(can_id, can_data)\n",
    "            messages.append(cm)\n",
    "    #\n",
    "    unique_datas = dict()\n",
    "    #\n",
    "    for canid in set([msg.canid for msg in messages]):\n",
    "        id_datas = set([msg.data for msg in messages if msg.canid==canid])\n",
    "        unique_datas[canid] = id_datas\n",
    "    #\n",
    "    return unique_datas"
   ]
  },
  {
   "cell_type": "code",
   "execution_count": 24,
   "metadata": {},
   "outputs": [],
   "source": [
    "data = parse_log('candump-2020-08-06_132427.log')"
   ]
  },
  {
   "cell_type": "code",
   "execution_count": 25,
   "metadata": {},
   "outputs": [
    {
     "data": {
      "text/plain": [
       "dict_keys(['511', '361', '405', '2A7', '060', '080', '2B0', '1A4', '150', '504', '241', '400', '415', '255', '3A0', '1E0', '2C0', '040', '160', '290', '265', '070', '2A0', '300', '360', '230', '110', '370', '310', '2F5', '020', '100', '541', '508', '1B0', '270', '108', '250', '240', '090', '1A0', '501', '083', '030', '0A0', '581', '2E0', '03A', '320', '1C0', '340', '1A8', '40A', '220'])"
      ]
     },
     "execution_count": 25,
     "metadata": {},
     "output_type": "execute_result"
    }
   ],
   "source": [
    "data.keys()"
   ]
  },
  {
   "cell_type": "code",
   "execution_count": 27,
   "metadata": {},
   "outputs": [
    {
     "name": "stdout",
     "output_type": "stream",
     "text": [
      "{'bit_length': 8, 'factor': '1', 'is_big_endian': True, 'is_float': False, 'is_signed': False, 'name': 'OneUp', 'offset': '0', 'start_bit': 0}\n"
     ]
    }
   ],
   "source": [
    "for start_bit in range(0, 8, 64):\n",
    "    print(gen_sig(bit_length=8, start_bit=start_bit))"
   ]
  },
  {
   "cell_type": "code",
   "execution_count": null,
   "metadata": {},
   "outputs": [],
   "source": []
  },
  {
   "cell_type": "code",
   "execution_count": 103,
   "metadata": {},
   "outputs": [],
   "source": [
    "def gen_dbc_entry(can_id):\n",
    "    dbc_entry = {'id': int(f\"{can_id}\", 16),\n",
    "     'is_extended_frame': False,\n",
    "     'name': f'Ox{can_id}',\n",
    "     'signals': list()}\n",
    "\n",
    "    def gen_sig(start_bit, bit_length=8):\n",
    "        return {'bit_length': bit_length,\n",
    "         'factor': \"1\",\n",
    "         'is_big_endian': True,\n",
    "         'is_float': False,\n",
    "         'is_signed': False,\n",
    "         'name': f'Ox{can_id}_{start_bit}',\n",
    "         'offset': \"0\",\n",
    "         'start_bit': start_bit\n",
    "        }\n",
    "    \n",
    "    for start_bit in range(0, 64, 8):\n",
    "        sig = gen_sig(start_bit=start_bit)\n",
    "        dbc_entry[\"signals\"].append(sig)\n",
    "        \n",
    "    return dbc_entry"
   ]
  },
  {
   "cell_type": "code",
   "execution_count": 104,
   "metadata": {
    "scrolled": false
   },
   "outputs": [
    {
     "data": {
      "text/plain": [
       "{'id': 1297,\n",
       " 'is_extended_frame': False,\n",
       " 'name': 'Ox511',\n",
       " 'signals': [{'bit_length': 8,\n",
       "   'factor': '1',\n",
       "   'is_big_endian': True,\n",
       "   'is_float': False,\n",
       "   'is_signed': False,\n",
       "   'name': 'Ox511_0',\n",
       "   'offset': '0',\n",
       "   'start_bit': 0},\n",
       "  {'bit_length': 8,\n",
       "   'factor': '1',\n",
       "   'is_big_endian': True,\n",
       "   'is_float': False,\n",
       "   'is_signed': False,\n",
       "   'name': 'Ox511_8',\n",
       "   'offset': '0',\n",
       "   'start_bit': 8},\n",
       "  {'bit_length': 8,\n",
       "   'factor': '1',\n",
       "   'is_big_endian': True,\n",
       "   'is_float': False,\n",
       "   'is_signed': False,\n",
       "   'name': 'Ox511_16',\n",
       "   'offset': '0',\n",
       "   'start_bit': 16},\n",
       "  {'bit_length': 8,\n",
       "   'factor': '1',\n",
       "   'is_big_endian': True,\n",
       "   'is_float': False,\n",
       "   'is_signed': False,\n",
       "   'name': 'Ox511_24',\n",
       "   'offset': '0',\n",
       "   'start_bit': 24},\n",
       "  {'bit_length': 8,\n",
       "   'factor': '1',\n",
       "   'is_big_endian': True,\n",
       "   'is_float': False,\n",
       "   'is_signed': False,\n",
       "   'name': 'Ox511_32',\n",
       "   'offset': '0',\n",
       "   'start_bit': 32},\n",
       "  {'bit_length': 8,\n",
       "   'factor': '1',\n",
       "   'is_big_endian': True,\n",
       "   'is_float': False,\n",
       "   'is_signed': False,\n",
       "   'name': 'Ox511_40',\n",
       "   'offset': '0',\n",
       "   'start_bit': 40},\n",
       "  {'bit_length': 8,\n",
       "   'factor': '1',\n",
       "   'is_big_endian': True,\n",
       "   'is_float': False,\n",
       "   'is_signed': False,\n",
       "   'name': 'Ox511_48',\n",
       "   'offset': '0',\n",
       "   'start_bit': 48},\n",
       "  {'bit_length': 8,\n",
       "   'factor': '1',\n",
       "   'is_big_endian': True,\n",
       "   'is_float': False,\n",
       "   'is_signed': False,\n",
       "   'name': 'Ox511_56',\n",
       "   'offset': '0',\n",
       "   'start_bit': 56}]}"
      ]
     },
     "execution_count": 104,
     "metadata": {},
     "output_type": "execute_result"
    }
   ],
   "source": [
    "gen_dbc_entry(511)"
   ]
  },
  {
   "cell_type": "code",
   "execution_count": 105,
   "metadata": {},
   "outputs": [],
   "source": [
    "dbc = {\n",
    "    \"messages\": list()\n",
    "}\n",
    "for can_id in data.keys():\n",
    "    dbc[\"messages\"].append(gen_dbc_entry(can_id))\n",
    "\n",
    "with open(\"spewed_dbc.json\", \"w\") as fp:\n",
    "    json.dump(obj=dbc, fp=fp, indent=4, sort_keys=True)"
   ]
  },
  {
   "cell_type": "code",
   "execution_count": null,
   "metadata": {},
   "outputs": [],
   "source": []
  }
 ],
 "metadata": {
  "kernelspec": {
   "display_name": "Python 3",
   "language": "python",
   "name": "python3"
  },
  "language_info": {
   "codemirror_mode": {
    "name": "ipython",
    "version": 3
   },
   "file_extension": ".py",
   "mimetype": "text/x-python",
   "name": "python",
   "nbconvert_exporter": "python",
   "pygments_lexer": "ipython3",
   "version": "3.8.2"
  }
 },
 "nbformat": 4,
 "nbformat_minor": 4
}

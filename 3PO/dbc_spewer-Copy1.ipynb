{
 "cells": [
  {
   "cell_type": "markdown",
   "metadata": {},
   "source": [
    "Take all found IDs and generate a generic dbc assuming 8, 8 bit fields."
   ]
  },
  {
   "cell_type": "code",
   "execution_count": 1,
   "metadata": {},
   "outputs": [],
   "source": [
    "import json"
   ]
  },
  {
   "cell_type": "code",
   "execution_count": 3,
   "metadata": {},
   "outputs": [
    {
     "data": {
      "text/plain": [
       "['candump-2020-08-06_130024.log',\n",
       " 'candump-2020-08-06_124354.log',\n",
       " 'candump-2020-08-06_124435.log',\n",
       " 'hs_long.log',\n",
       " 'i_can.log',\n",
       " 'ican_dump.log',\n",
       " 'hs_odb_probe.log',\n",
       " 'lock_unlock.log',\n",
       " 'candump-2020-08-06_132427.log']"
      ]
     },
     "execution_count": 3,
     "metadata": {},
     "output_type": "execute_result"
    }
   ],
   "source": [
    "import glob\n",
    "logs = glob.glob(\"*.log\")\n",
    "logs"
   ]
  },
  {
   "cell_type": "code",
   "execution_count": 4,
   "metadata": {},
   "outputs": [],
   "source": [
    "class CanMsg(object):\n",
    "    def __init__(self, canid, data):\n",
    "        self.canid=canid\n",
    "        self.data=data\n",
    "        \n",
    "    def __repr__(self):\n",
    "        return f\"CAN<{self.canid}, {self.data}>\"\n",
    "def parse_log(log_file):\n",
    "    messages = list()\n",
    "    with open(log_file, \"r\") as f:\n",
    "        for can_msg in f.readlines():\n",
    "            can_id, can_data = can_msg.strip().split(\" \")[-1].split(\"#\")\n",
    "            cm = CanMsg(can_id, can_data)\n",
    "            messages.append(cm)\n",
    "    #\n",
    "    unique_datas = dict()\n",
    "    #\n",
    "    for canid in set([msg.canid for msg in messages]):\n",
    "        id_datas = set([msg.data for msg in messages if msg.canid==canid])\n",
    "        unique_datas[canid] = id_datas\n",
    "    #\n",
    "    return unique_datas"
   ]
  },
  {
   "cell_type": "code",
   "execution_count": 5,
   "metadata": {},
   "outputs": [],
   "source": [
    "data = parse_log('candump-2020-08-06_132427.log')"
   ]
  },
  {
   "cell_type": "code",
   "execution_count": 6,
   "metadata": {},
   "outputs": [
    {
     "data": {
      "text/plain": [
       "dict_keys(['2E0', '108', '230', '581', '03A', '340', '290', '150', '300', '508', '110', '1A8', '070', '080', '250', '2F5', '100', '220', '1B0', '400', '040', '2A7', '2C0', '310', '1A4', '370', '0A0', '361', '241', '360', '2A0', '160', '265', '511', '020', '1E0', '240', '3A0', '415', '320', '504', '541', '060', '255', '40A', '030', '1A0', '090', '1C0', '2B0', '270', '501', '083', '405'])"
      ]
     },
     "execution_count": 6,
     "metadata": {},
     "output_type": "execute_result"
    }
   ],
   "source": [
    "data.keys()"
   ]
  },
  {
   "cell_type": "code",
   "execution_count": 7,
   "metadata": {},
   "outputs": [],
   "source": [
    "def gen_dbc_entry(can_id):\n",
    "    dbc_entry = {'id': int(f\"{can_id}\", 16),\n",
    "     'is_extended_frame': False,\n",
    "     'name': f'Ox{can_id}',\n",
    "     'signals': list()}\n",
    "\n",
    "    def gen_sig(start_bit, bit_length=8):\n",
    "        return {'bit_length': bit_length,\n",
    "         'factor': \"1\",\n",
    "         'is_big_endian': True,\n",
    "         'is_float': False,\n",
    "         'is_signed': False,\n",
    "         'name': f'Ox{can_id}_{start_bit}',\n",
    "         'offset': \"0\",\n",
    "         'start_bit': start_bit\n",
    "        }\n",
    "    \n",
    "    for start_bit in range(0, 64, 8):\n",
    "        sig = gen_sig(start_bit=start_bit)\n",
    "        dbc_entry[\"signals\"].append(sig)\n",
    "        \n",
    "    return dbc_entry"
   ]
  },
  {
   "cell_type": "code",
   "execution_count": 9,
   "metadata": {},
   "outputs": [],
   "source": [
    "dbc = {\n",
    "    \"messages\": list()\n",
    "}\n",
    "\n",
    "unique_message_dbc_threshold = 5\n",
    "\n",
    "for can_id, can_messages in data.items():\n",
    "    if len(can_messages)< unique_message_dbc_threshold:\n",
    "        continue\n",
    "    dbc[\"messages\"].append(gen_dbc_entry(can_id))\n",
    "\n",
    "with open(\"spewed_dbc.json\", \"w\") as fp:\n",
    "    json.dump(obj=dbc, fp=fp, indent=4, sort_keys=True)"
   ]
  }
 ],
 "metadata": {
  "kernelspec": {
   "display_name": "Python 3",
   "language": "python",
   "name": "python3"
  },
  "language_info": {
   "codemirror_mode": {
    "name": "ipython",
    "version": 3
   },
   "file_extension": ".py",
   "mimetype": "text/x-python",
   "name": "python",
   "nbconvert_exporter": "python",
   "pygments_lexer": "ipython3",
   "version": "3.8.2"
  }
 },
 "nbformat": 4,
 "nbformat_minor": 4
}
